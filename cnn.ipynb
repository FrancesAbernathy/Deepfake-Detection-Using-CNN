{
 "cells": [
  {
   "cell_type": "code",
   "execution_count": 1,
   "metadata": {},
   "outputs": [
    {
     "name": "stdout",
     "output_type": "stream",
     "text": [
      "WARNING:tensorflow:From c:\\Users\\devan\\AppData\\Local\\Programs\\Python\\Python310\\lib\\site-packages\\keras\\src\\losses.py:2976: The name tf.losses.sparse_softmax_cross_entropy is deprecated. Please use tf.compat.v1.losses.sparse_softmax_cross_entropy instead.\n",
      "\n"
     ]
    }
   ],
   "source": [
    "import os\n",
    "import tensorflow as tf\n",
    "from tensorflow.keras.preprocessing.image import ImageDataGenerator\n",
    "from tensorflow.keras.layers import Conv2D, MaxPooling2D, Flatten, Dense, Dropout\n",
    "from tensorflow.keras.models import Sequential"
   ]
  },
  {
   "cell_type": "code",
   "execution_count": 2,
   "metadata": {},
   "outputs": [
    {
     "name": "stdout",
     "output_type": "stream",
     "text": [
      "Current working directory: c:\\Users\\devan\\OneDrive\\Desktop\\MP\\Proccessed dataset\n",
      "Full path to training directory: c:\\Users\\devan\\OneDrive\\Desktop\\MP\\Proccessed dataset\\training\n",
      "Full path to validation directory: c:\\Users\\devan\\OneDrive\\Desktop\\MP\\Proccessed dataset\\validation\n",
      "Full path to testing directory: c:\\Users\\devan\\OneDrive\\Desktop\\MP\\Proccessed dataset\\testing\n"
     ]
    }
   ],
   "source": [
    "# Get the current working directory\n",
    "current_directory = os.getcwd()\n",
    "print(\"Current working directory:\", current_directory)\n",
    "\n",
    "# Define the relative paths to your directories without duplication\n",
    "train_dir = os.path.join(current_directory, 'training')\n",
    "validation_dir = os.path.join(current_directory, 'validation')\n",
    "test_dir = os.path.join(current_directory, 'testing')\n",
    "\n",
    "# Check the full paths\n",
    "print(\"Full path to training directory:\", train_dir)\n",
    "print(\"Full path to validation directory:\", validation_dir)\n",
    "print(\"Full path to testing directory:\", test_dir)\n"
   ]
  },
  {
   "cell_type": "code",
   "execution_count": 4,
   "metadata": {},
   "outputs": [
    {
     "name": "stdout",
     "output_type": "stream",
     "text": [
      "Found 121159 images belonging to 2 classes.\n",
      "Found 53184 images belonging to 2 classes.\n"
     ]
    }
   ],
   "source": [
    "# Set image dimensions (adjust if necessary)\n",
    "img_width, img_height = 224, 224  # Common image size for CNNs\n",
    "\n",
    "# Data augmentation for improving generalization (optional)\n",
    "train_datagen = ImageDataGenerator(\n",
    "    rescale=1./255,  # Normalize pixel values to [0, 1]\n",
    "    shear_range=0.2,\n",
    "    zoom_range=0.2,\n",
    "    horizontal_flip=True,\n",
    "    rotation_range=20\n",
    ")\n",
    "\n",
    "validation_datagen = ImageDataGenerator(rescale=1./255)\n",
    "\n",
    "# Flow training and validation data\n",
    "train_generator = train_datagen.flow_from_directory(\n",
    "    train_dir,\n",
    "    target_size=(img_width, img_height),\n",
    "    batch_size=32,  # Adjust batch size based on GPU memory\n",
    "    class_mode='binary'  # Binary classification (real vs. fake)\n",
    ")\n",
    "\n",
    "validation_generator = validation_datagen.flow_from_directory(\n",
    "    validation_dir,\n",
    "    target_size=(img_width, img_height),\n",
    "    batch_size=32,\n",
    "    class_mode='binary'\n",
    ")\n"
   ]
  },
  {
   "cell_type": "code",
   "execution_count": 5,
   "metadata": {},
   "outputs": [
    {
     "name": "stdout",
     "output_type": "stream",
     "text": [
      "WARNING:tensorflow:From c:\\Users\\devan\\AppData\\Local\\Programs\\Python\\Python310\\lib\\site-packages\\keras\\src\\backend.py:873: The name tf.get_default_graph is deprecated. Please use tf.compat.v1.get_default_graph instead.\n",
      "\n",
      "WARNING:tensorflow:From c:\\Users\\devan\\AppData\\Local\\Programs\\Python\\Python310\\lib\\site-packages\\keras\\src\\layers\\pooling\\max_pooling2d.py:161: The name tf.nn.max_pool is deprecated. Please use tf.nn.max_pool2d instead.\n",
      "\n"
     ]
    }
   ],
   "source": [
    "# Define the CNN model architecture\n",
    "model = Sequential()\n",
    "model.add(Conv2D(32, (3, 3), activation='relu', input_shape=(img_width, img_height, 3)))\n",
    "model.add(MaxPooling2D((2, 2)))\n",
    "model.add(Dropout(0.25))  # Dropout for regularization\n",
    "\n",
    "model.add(Conv2D(64, (3, 3), activation='relu'))\n",
    "model.add(MaxPooling2D((2, 2)))\n",
    "model.add(Dropout(0.25))\n",
    "\n",
    "model.add(Flatten())\n",
    "model.add(Dense(128, activation='relu'))\n",
    "model.add(Dropout(0.5))  \n",
    "\n",
    "model.add(Dense(1, activation='sigmoid'))  # Sigmoid for binary classification\n"
   ]
  },
  {
   "cell_type": "code",
   "execution_count": 6,
   "metadata": {},
   "outputs": [
    {
     "name": "stdout",
     "output_type": "stream",
     "text": [
      "WARNING:tensorflow:From c:\\Users\\devan\\AppData\\Local\\Programs\\Python\\Python310\\lib\\site-packages\\keras\\src\\optimizers\\__init__.py:309: The name tf.train.Optimizer is deprecated. Please use tf.compat.v1.train.Optimizer instead.\n",
      "\n"
     ]
    }
   ],
   "source": [
    "# Compile the model\n",
    "model.compile(loss='binary_crossentropy',\n",
    "              optimizer='adam',\n",
    "              metrics=['accuracy'])"
   ]
  },
  {
   "cell_type": "code",
   "execution_count": 7,
   "metadata": {},
   "outputs": [
    {
     "name": "stdout",
     "output_type": "stream",
     "text": [
      "Epoch 1/10\n",
      "WARNING:tensorflow:From c:\\Users\\devan\\AppData\\Local\\Programs\\Python\\Python310\\lib\\site-packages\\keras\\src\\utils\\tf_utils.py:492: The name tf.ragged.RaggedTensorValue is deprecated. Please use tf.compat.v1.ragged.RaggedTensorValue instead.\n",
      "\n",
      "WARNING:tensorflow:From c:\\Users\\devan\\AppData\\Local\\Programs\\Python\\Python310\\lib\\site-packages\\keras\\src\\engine\\base_layer_utils.py:384: The name tf.executing_eagerly_outside_functions is deprecated. Please use tf.compat.v1.executing_eagerly_outside_functions instead.\n",
      "\n",
      "3787/3787 [==============================] - 2389s 631ms/step - loss: 0.5996 - accuracy: 0.6746 - val_loss: 0.5667 - val_accuracy: 0.6921\n",
      "Epoch 2/10\n",
      "3787/3787 [==============================] - 2355s 622ms/step - loss: 0.5464 - accuracy: 0.7152 - val_loss: 0.5512 - val_accuracy: 0.7209\n",
      "Epoch 3/10\n",
      "3787/3787 [==============================] - 2525s 667ms/step - loss: 0.5272 - accuracy: 0.7300 - val_loss: 0.5533 - val_accuracy: 0.7184\n",
      "Epoch 4/10\n",
      "3787/3787 [==============================] - 2651s 700ms/step - loss: 0.5134 - accuracy: 0.7411 - val_loss: 0.5393 - val_accuracy: 0.7323\n",
      "Epoch 5/10\n",
      "3787/3787 [==============================] - 2557s 675ms/step - loss: 0.5017 - accuracy: 0.7503 - val_loss: 0.4871 - val_accuracy: 0.7660\n",
      "Epoch 6/10\n",
      "3787/3787 [==============================] - 2469s 652ms/step - loss: 0.4923 - accuracy: 0.7574 - val_loss: 0.4700 - val_accuracy: 0.7814\n",
      "Epoch 7/10\n",
      "3787/3787 [==============================] - 2441s 645ms/step - loss: 0.4852 - accuracy: 0.7637 - val_loss: 0.4983 - val_accuracy: 0.7625\n",
      "Epoch 8/10\n",
      "3787/3787 [==============================] - 2756s 728ms/step - loss: 0.4815 - accuracy: 0.7667 - val_loss: 0.4870 - val_accuracy: 0.7752\n",
      "Epoch 9/10\n",
      "3787/3787 [==============================] - 2502s 661ms/step - loss: 0.4750 - accuracy: 0.7698 - val_loss: 0.4628 - val_accuracy: 0.7855\n",
      "Epoch 10/10\n",
      "3787/3787 [==============================] - 2446s 646ms/step - loss: 0.4679 - accuracy: 0.7738 - val_loss: 0.4297 - val_accuracy: 0.8056\n"
     ]
    },
    {
     "data": {
      "text/plain": [
       "<keras.src.callbacks.History at 0x264f28e9fc0>"
      ]
     },
     "execution_count": 7,
     "metadata": {},
     "output_type": "execute_result"
    }
   ],
   "source": [
    "# Train the model\n",
    "model.fit(\n",
    "    train_generator,\n",
    "    epochs=10,  # Adjust epochs based on validation performance\n",
    "    validation_data=validation_generator\n",
    ")"
   ]
  },
  {
   "cell_type": "code",
   "execution_count": 8,
   "metadata": {},
   "outputs": [
    {
     "name": "stdout",
     "output_type": "stream",
     "text": [
      "Found 35304 images belonging to 2 classes.\n",
      "1104/1104 [==============================] - 111s 101ms/step - loss: 0.4831 - accuracy: 0.7683\n",
      "Test accuracy: 0.7682982087135315\n"
     ]
    }
   ],
   "source": [
    "# Evaluate the model on the test set\n",
    "test_datagen = ImageDataGenerator(rescale=1./255)\n",
    "test_generator = test_datagen.flow_from_directory(\n",
    "    test_dir,\n",
    "    target_size=(img_width, img_height),\n",
    "    batch_size=32,\n",
    "    class_mode='binary'\n",
    ")\n",
    "\n",
    "test_loss, test_acc = model.evaluate(test_generator)\n",
    "print('Test accuracy:', test_acc)"
   ]
  }
 ],
 "metadata": {
  "kernelspec": {
   "display_name": "Python 3",
   "language": "python",
   "name": "python3"
  },
  "language_info": {
   "codemirror_mode": {
    "name": "ipython",
    "version": 3
   },
   "file_extension": ".py",
   "mimetype": "text/x-python",
   "name": "python",
   "nbconvert_exporter": "python",
   "pygments_lexer": "ipython3",
   "version": "3.10.5"
  }
 },
 "nbformat": 4,
 "nbformat_minor": 2
}
